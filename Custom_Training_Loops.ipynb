{
  "nbformat": 4,
  "nbformat_minor": 0,
  "metadata": {
    "colab": {
      "provenance": [],
      "authorship_tag": "ABX9TyPeOofC7M4tft0l5fcK5ZEy",
      "include_colab_link": true
    },
    "kernelspec": {
      "name": "python3",
      "display_name": "Python 3"
    },
    "language_info": {
      "name": "python"
    }
  },
  "cells": [
    {
      "cell_type": "markdown",
      "metadata": {
        "id": "view-in-github",
        "colab_type": "text"
      },
      "source": [
        "<a href=\"https://colab.research.google.com/github/Kerriea-star/Distributed-training/blob/main/Custom_Training_Loops.ipynb\" target=\"_parent\"><img src=\"https://colab.research.google.com/assets/colab-badge.svg\" alt=\"Open In Colab\"/></a>"
      ]
    },
    {
      "cell_type": "markdown",
      "source": [
        "This tutorial demonstrates how to use `tf.distribute.Strategy`—a TensorFlow API that provides an abstraction for **distributing your training** across multiple processing units (GPUs, multiple machines, or TPUs)—with custom training loops. In this example, you will train a simple convolutional neural network on the **Fashion MNIST** dataset containing 70,000 images of size 28 x 28.\n",
        "\n",
        "**Custom training loops** provide flexibility and a greater control on training. They also make it easier to debug the model and the training loop."
      ],
      "metadata": {
        "id": "etSpnQm001iR"
      }
    },
    {
      "cell_type": "code",
      "execution_count": 11,
      "metadata": {
        "colab": {
          "base_uri": "https://localhost:8080/"
        },
        "id": "YUftS19Of3Nw",
        "outputId": "c5246048-8aa5-4443-d28e-3b309783ce1c"
      },
      "outputs": [
        {
          "output_type": "stream",
          "name": "stdout",
          "text": [
            "2.13.0\n"
          ]
        }
      ],
      "source": [
        "# Import TensorFlow\n",
        "import tensorflow as tf\n",
        "\n",
        "# Helper libraries\n",
        "import numpy as np\n",
        "import os\n",
        "\n",
        "print(tf.__version__)"
      ]
    },
    {
      "cell_type": "markdown",
      "source": [
        "##Download the Fashion MNIST dataset"
      ],
      "metadata": {
        "id": "JLKfc_BY12mf"
      }
    },
    {
      "cell_type": "code",
      "source": [
        "fashion_mnist = tf.keras.datasets.fashion_mnist\n",
        "\n",
        "(train_images, train_labels), (test_images, test_labels) = fashion_mnist.load_data()\n",
        "\n",
        "# Add a dimension to the array -> new shape == (28, 28, 1)\n",
        "# This is done because the first layer in our model is a convolutional\n",
        "# layer and it requires a 4D input (batch_size, height, width, channels).\n",
        "# batch_size dimension will be added later on.\n",
        "\n",
        "train_images = train_images[..., None]\n",
        "test_images = test_images[..., None]\n",
        "\n",
        "# Scale the images to the [0, 1] range.\n",
        "train_images = train_images / np.float32(255)\n",
        "test_images = test_images / np.float32(255)"
      ],
      "metadata": {
        "id": "YEVEBCkY1UXm"
      },
      "execution_count": 12,
      "outputs": []
    },
    {
      "cell_type": "markdown",
      "source": [
        "##Create a strategy to distribute the variables and the graph\n",
        "\n",
        "How does `tf.distribute.MirroredStrategy` strategy work?\n",
        "\n",
        "*   All the variables and the model graph are replicated across the replicas.\n",
        "\n",
        "*   Input is evenly distributed across the replicas.\n",
        "\n",
        "*   Each replica calculates the loss and gradients for the input it received.\n",
        "\n",
        "*   The gradients are synced across all the replicas by **summing** them.\n",
        "\n",
        "*   After the sync, the same update is made to the copies of the variables on each replica.\n",
        "\n",
        "\n"
      ],
      "metadata": {
        "id": "AKWMM2kv3W4M"
      }
    },
    {
      "cell_type": "code",
      "source": [
        "# If the list of devices is not specified in\n",
        "# `tf.distribute.MirroredStrategy` constructor, they will be auto-detected.\n",
        "strategy = tf.distribute.MirroredStrategy()"
      ],
      "metadata": {
        "id": "CdHG_lF622fQ"
      },
      "execution_count": 13,
      "outputs": []
    },
    {
      "cell_type": "code",
      "source": [
        "print(\"Number of devices: {}\".format(strategy.num_replicas_in_sync))"
      ],
      "metadata": {
        "colab": {
          "base_uri": "https://localhost:8080/"
        },
        "id": "QWChEHWT4O2W",
        "outputId": "819b4748-89b6-481c-f458-697677e11870"
      },
      "execution_count": 14,
      "outputs": [
        {
          "output_type": "stream",
          "name": "stdout",
          "text": [
            "Number of devices: 1\n"
          ]
        }
      ]
    },
    {
      "cell_type": "markdown",
      "source": [
        "### Setup input pipeline"
      ],
      "metadata": {
        "id": "ys9i7QoK49DM"
      }
    },
    {
      "cell_type": "code",
      "source": [
        "BUFFER_SIZE = len(train_images)\n",
        "BATCH_SIZE_PER_REPLICA = 64\n",
        "GLOBAL_BATCH_SIZE = BATCH_SIZE_PER_REPLICA * strategy.num_replicas_in_sync\n",
        "EPOCHS = 10"
      ],
      "metadata": {
        "id": "SWgonJo34dqj"
      },
      "execution_count": 15,
      "outputs": []
    },
    {
      "cell_type": "markdown",
      "source": [
        "Create the datasets and distribute them:"
      ],
      "metadata": {
        "id": "0SSHqVzP5W-0"
      }
    },
    {
      "cell_type": "code",
      "source": [
        "train_dataset = tf.data.Dataset.from_tensor_slices((train_images, train_labels)).shuffle(BUFFER_SIZE).batch(GLOBAL_BATCH_SIZE)\n",
        "test_dataset = tf.data.Dataset.from_tensor_slices((test_images, test_labels)).batch(GLOBAL_BATCH_SIZE)\n",
        "\n",
        "train_dist_dataset = strategy.experimental_distribute_dataset(train_dataset)\n",
        "test_dist_dataset = strategy.experimental_distribute_dataset(test_dataset)"
      ],
      "metadata": {
        "id": "uLT7g0fW5Umt"
      },
      "execution_count": 16,
      "outputs": []
    },
    {
      "cell_type": "markdown",
      "source": [
        "##Create the model\n",
        "Create a model using `tf.keras.Sequential`. You can also use the **Model Subclassing API** or the **functional API** to do this."
      ],
      "metadata": {
        "id": "8OzNKAekmmLE"
      }
    },
    {
      "cell_type": "code",
      "source": [
        "def create_model():\n",
        "  regularizer = tf.keras.regularizers.L2(1e-5)\n",
        "  model = tf.keras.Sequential([\n",
        "      tf.keras.layers.Conv2D(32, 3,\n",
        "                             activation='relu',\n",
        "                             kernel_regularizer=regularizer),\n",
        "      tf.keras.layers.MaxPooling2D(),\n",
        "      tf.keras.layers.Conv2D(64, 3,\n",
        "                             activation='relu',\n",
        "                             kernel_regularizer=regularizer),\n",
        "      tf.keras.layers.MaxPooling2D(),\n",
        "      tf.keras.layers.Flatten(),\n",
        "      tf.keras.layers.Dense(64,\n",
        "                            activation='relu',\n",
        "                            kernel_regularizer=regularizer),\n",
        "      tf.keras.layers.Dense(10, kernel_regularizer=regularizer)\n",
        "  ])\n",
        "\n",
        "\n",
        "  return model"
      ],
      "metadata": {
        "id": "y7zbLfmF6Lv4"
      },
      "execution_count": 17,
      "outputs": []
    },
    {
      "cell_type": "code",
      "source": [
        "# Create a checkpoint directory to store the checkpoints.\n",
        "checkpoint_dir = './training_checkpoints'\n",
        "checkpoint_prefix = os.path.join(checkpoint_dir, 'ckpt')"
      ],
      "metadata": {
        "id": "Ra5UcrFXnzAN"
      },
      "execution_count": 18,
      "outputs": []
    },
    {
      "cell_type": "markdown",
      "source": [
        "##Define the loss function\n",
        "Recall that the loss function consists of one or two parts:\n",
        "\n",
        "*   The prediction loss measures how far off the model's predictions are from the training labels for a batch of training examples. It is computed for each labeled example and then reduced across the batch by computing the average value.\n",
        "*   Optionally, regularization loss terms can be added to the prediction loss, to steer the model away from overfitting the training data. A common choice is L2 regularization, which adds a small fixed multiple of the sum of squares of all model weights, independent of the number of examples. The model above uses L2 regularization to demonstrate its handling in the training loop below.\n",
        "\n",
        "For training on a single machine with a single GPU/CPU, this works as follows:\n",
        "\n",
        "*   The prediction loss is computed for each example in the batch, summed across the batch, and then divided by the batch size.\n",
        "*   The regularization loss is added to the prediction loss.\n",
        "*   The gradient of the total loss is computed w.r.t. each model weight, and the optimizer updates each model weight from the corresponding gradient.\n",
        "\n",
        "With `tf.distribute.Strategy`, the input batch is split between replicas. For example, let's say you have 4 GPUs, each with one replica of the model. One batch of 256 input examples is distributed evenly across the 4 replicas, so each replica gets a batch of size 64: We have `256 = 4*64`, or generally `GLOBAL_BATCH_SIZE = num_replicas_in_sync * BATCH_SIZE_PER_REPLICA`.\n",
        "\n",
        "Each replica computes the loss from the training examples it gets and computes the gradients of the loss w.r.t. each model weight. The optimizer takes care that these gradients are summed up across replicas before using them to update the copies of the model weights on each replica.\n",
        "\n",
        "So, how should the loss be calculated when using a `tf.distribute.Strategy`?\n",
        "\n",
        "*   Each replica computes the prediction loss for all examples distributed to it, sums up the results and divides them by `num_replicas_in_sync * BATCH_SIZE_PER_REPLICA`, or equivently, `GLOBAL_BATCH_SIZE`.\n",
        "*   Each replica compues the regularization loss(es) and divides them by `num_replicas_in_sync`.\n",
        "\n",
        "Compared to non-distributed training, all per-replica loss terms are scaled down by a factor of 1/num_replicas_in_sync. On the other hand, all loss terms -- or rather, their gradients -- are summed across that number of replicas before the optimizer applies them. In effect, the optimizer on each replica uses the same gradients as if a non-distributed computation with GLOBAL_BATCH_SIZE had happened. This is consistent with the distributed and undistributed behavior of Keras Model.fit.\n",
        "\n",
        "How to do this in TensorFlow?\n",
        "\n",
        "*   Loss reduction and scaling is done automatically in Keras `Model.compile` and `Model.fit`\n",
        "*   If you're writing a custom training loop, as in this project, you should sum the per-example losses and divide the sum by the global batch size using `tf.nn.compute_average_loss`, which takes the per-example losses and optional sample weights as arguments and returns the scaled loss.\n",
        "*   If using `tf.keras.losses` classes (as in the example below), the loss reduction needs to be explicitly specified to be one of `NONE` or `SUM`. The default `AUTO` and `SUM_OVER_BATCH_SIZE` are disallowed outside Model.fit.\n",
        "\n",
        "  *   `AUTO` is disallowed because the user should explicitly think about what reduction they want to make sure it is correct in the distributed case.\n",
        "  *   `SUM_OVER_BATCH_SIZE`is disallowed because currently it would only divide by per replica batch size, and leave the dividing by number of replicas to the user, which might be easy to miss. So, instead, you need to do the reduction yourself explicitly.\n",
        "\n",
        "\n",
        "*   If you're writing a custom training loop for a model with a non-empty list of Model.losses (e.g., weight regularizers), you should sum them up and divide the sum by the number of replicas. You can do this by using the tf.nn.scale_regularization_loss function. The model code itself remains unaware of the number of replicas.\n",
        "\n",
        "However, models can define input-dependent regularization losses with Keras APIs such as `Layer.add_loss(...)` and `Layer(activity_regularizer=...)`. For `Layer.add_loss(...)`, it falls on the modeling code to perform the division of the summed per-example terms by the per-replica(!) batch size, e.g., by using `tf.math.reduce_mean()`.\n",
        "\n",
        "\n"
      ],
      "metadata": {
        "id": "AL_kSh9Tp_hf"
      }
    },
    {
      "cell_type": "code",
      "source": [
        "with strategy.scope():\n",
        "  # Set reduction to `NONE` so you can do the reduction yourself\n",
        "  loss_object = tf.keras.losses.SparseCategoricalCrossentropy(\n",
        "      from_logits=True,\n",
        "      reduction=tf.keras.losses.Reduction.NONE\n",
        "  )\n",
        "\n",
        "  def compute_loss(labels, predictions, model_losses):\n",
        "    per_example_loss = loss_object(labels, predictions)\n",
        "    loss = tf.nn.compute_average_loss(per_example_loss)\n",
        "    if model_losses:\n",
        "      loss += tf.nn.scale_regularization_loss(tf.add_n(model_losses))\n",
        "    return loss"
      ],
      "metadata": {
        "id": "beqqMfGQoFCL"
      },
      "execution_count": 19,
      "outputs": []
    },
    {
      "cell_type": "markdown",
      "source": [
        "### Special cases\n",
        "\n",
        "Advanced users should also consider the following special cases.\n",
        "\n",
        "  * Input batches shorter than `GLOBAL_BATCH_SIZE` create unpleasant corner cases in several places. In practice, it often works best to avoid them by allowing batches to span epoch boundaries using `Dataset.repeat().batch()` and defining approximate epochs by step counts, not dataset ends. Alternatively, `Dataset.batch(drop_remainder=True)` maintains the notion of epoch but drops the last few examples.\n",
        "\n",
        "  For illustration, this example goes the harder route and allows short batches, so that each training epoch contains each trainig example exactly once.\n",
        "  \n",
        "  Which denominator should be used by `tf.nn.compute_average_loss()`?\n",
        "\n",
        "    * By default, in the example code above and equivalently in `Keras.fit()`, the sum of prediction losses is divided by `num_replicas_in_sync` times the actual batch size seen on the replica (with empty batches silently ignored). This preserves the balance between the prediction loss on the one hand and the regularization losses on the other hand. It is particularly appropriate for models that use input-dependent regularization losses. Plain L2 regularization just superimposes weight decay onto the gradients of the prediction loss and is less in need of such a balance.\n",
        "    * In practice, many custom training loops pass as a constant Python value into `tf.nn.compute_average_loss(..., global_batch_size=GLOBAL_BATCH_SIZE)` to use it as the denominator. This preserves the relative weighting of training examples between batches. Without it, the smaller denominator in short batches effectively upweights the examples in those. (Before TensorFlow 2.13, this was also needed to avoid NaNs in case some replica received an actual batch size of zero.)\n",
        "  \n",
        "  Both options are equivalent if short batches are avoided, as suggested above.\n",
        "\n",
        "  * Multi-dimensional `labels` require you to average the `per_example_loss` across the number of predictions in each example. Consider a classification task for all pixels of an input image, with `predictions` of shape `(batch_size, H, W, n_classes)` and `labels` of shape `(batch_size, H, W)`. You will need to update `per_example_loss` like: `per_example_loss /= tf.cast(tf.reduce_prod(tf.shape(labels)[1:]), tf.float32)`\n",
        "\n",
        "  Caution: **Verify the shape of your loss**.\n",
        "  Loss functions in `tf.losses`/`tf.keras.losses` typically\n",
        "  return the average over the last dimension of the input. The loss\n",
        "  classes wrap these functions. Passing `reduction=Reduction.NONE` when\n",
        "  creating an instance of a loss class means \"no **additional** reduction\".\n",
        "  For categorical losses with an example input shape of `[batch, W, H, n_classes]` the `n_classes`\n",
        "  dimension is reduced. For pointwise losses like\n",
        "  `losses.mean_squared_error` or `losses.binary_crossentropy` include a\n",
        "  dummy axis so that `[batch, W, H, 1]` is reduced to `[batch, W, H]`. Without\n",
        "  the dummy axis  `[batch, W, H]` will be incorrectly reduced to `[batch, W]`."
      ],
      "metadata": {
        "id": "0tf_ixjIwJYW"
      }
    },
    {
      "cell_type": "markdown",
      "source": [
        "###Define the metrics to track loss and accuracy\n",
        "These metrics track the test loss and training and test accuracy. You can use `.result()` to get the accumulated statistics at any time."
      ],
      "metadata": {
        "id": "U27mW64KwPjr"
      }
    },
    {
      "cell_type": "code",
      "source": [
        "with strategy.scope():\n",
        "  test_loss = tf.keras.metrics.Mean(name='test_loss')\n",
        "\n",
        "  train_accuracy = tf.keras.metrics.SparseCategoricalAccuracy(\n",
        "      name='train_accuracy'\n",
        "  )\n",
        "  test_accuracy = tf.keras.metrics.SparseCategoricalAccuracy(\n",
        "      name=\"test_accuracy\"\n",
        "  )"
      ],
      "metadata": {
        "id": "X-DH8ZcIu5-0"
      },
      "execution_count": 20,
      "outputs": []
    },
    {
      "cell_type": "markdown",
      "source": [
        "## Training loop"
      ],
      "metadata": {
        "id": "MIO_cFVQGJFs"
      }
    },
    {
      "cell_type": "code",
      "source": [
        "# A model, an optimizer, and a checkpoint must be created under 'strategy.scope'\n",
        "with strategy.scope():\n",
        "  model = create_model()\n",
        "\n",
        "  optimizer = tf.keras.optimizers.Adam(learning_rate=0.001)\n",
        "\n",
        "  checkpoint = tf.train.Checkpoint(optimizer=optimizer, model=model)"
      ],
      "metadata": {
        "id": "3t5mva7HwwfI"
      },
      "execution_count": 21,
      "outputs": []
    },
    {
      "cell_type": "code",
      "source": [
        "def train_step(inputs):\n",
        "  images, labels = inputs\n",
        "\n",
        "  with tf.GradientTape() as tape:\n",
        "    predictions = model(images, training=True)\n",
        "    loss = compute_loss(labels, predictions, model.losses)\n",
        "\n",
        "  gradients = tape.gradient(loss, model.trainable_variables)\n",
        "  optimizer.apply_gradients(zip(gradients, model.trainable_variables))\n",
        "\n",
        "  train_accuracy.update_state(labels, predictions)\n",
        "  return loss\n",
        "\n",
        "def test_step(inputs):\n",
        "  images, labels = inputs\n",
        "\n",
        "  predictions = model(images, training=False)\n",
        "  t_loss = loss_object(labels, predictions)\n",
        "\n",
        "  test_loss.update_state(t_loss)\n",
        "  test_accuracy.update_state(labels, predictions)"
      ],
      "metadata": {
        "id": "9E-wOPThGlnm"
      },
      "execution_count": 22,
      "outputs": []
    },
    {
      "cell_type": "code",
      "source": [
        "# `run` replicates the provided computation and runs it\n",
        "# with the distributed input.\n",
        "@tf.function\n",
        "def distributed_train_step(dataset_inputs):\n",
        "  per_replica_losses = strategy.run(train_step, args=(dataset_inputs,))\n",
        "  return strategy.reduce(tf.distribute.ReduceOp.SUM, per_replica_losses,\n",
        "                         axis=None)\n",
        "\n",
        "@tf.function\n",
        "def distributed_test_step(dataset_inputs):\n",
        "  return strategy.run(test_step, args=(dataset_inputs,))\n",
        "\n",
        "for epoch in range(EPOCHS):\n",
        "  # TRAIN LOOP\n",
        "  total_loss = 0.0\n",
        "  num_batches = 0\n",
        "  for x in train_dist_dataset:\n",
        "    total_loss += distributed_train_step(x)\n",
        "    num_batches += 1\n",
        "  train_loss = total_loss / num_batches\n",
        "\n",
        "  # TEST LOOP\n",
        "  for x in test_dist_dataset:\n",
        "    distributed_test_step(x)\n",
        "\n",
        "  if epoch % 2 == 0:\n",
        "    checkpoint.save(checkpoint_prefix)\n",
        "\n",
        "  template = (\"Epoch {}, Loss: {}, Accuracy: {}, Test Loss: {}, \"\n",
        "              \"Test Accuracy: {}\")\n",
        "  print(template.format(epoch + 1, train_loss,\n",
        "                         train_accuracy.result() * 100, test_loss.result(),\n",
        "                         test_accuracy.result() * 100))\n",
        "\n",
        "  test_loss.reset_states()\n",
        "  train_accuracy.reset_states()\n",
        "  test_accuracy.reset_states()"
      ],
      "metadata": {
        "colab": {
          "base_uri": "https://localhost:8080/"
        },
        "id": "B_LaP5tqHfy2",
        "outputId": "1f774ae4-5666-4bf2-eda3-c4575047c08b"
      },
      "execution_count": 25,
      "outputs": [
        {
          "output_type": "stream",
          "name": "stdout",
          "text": [
            "Epoch 1, Loss: 0.33519473671913147, Accuracy: 85.18917083740234, Test Loss: 0.36554986238479614, Test Accuracy: 86.80999755859375\n",
            "Epoch 2, Loss: 0.2948227524757385, Accuracy: 89.42666625976562, Test Loss: 0.32009240984916687, Test Accuracy: 88.05000305175781\n",
            "Epoch 3, Loss: 0.2666086256504059, Accuracy: 90.46333312988281, Test Loss: 0.27729418873786926, Test Accuracy: 89.9800033569336\n",
            "Epoch 4, Loss: 0.24237608909606934, Accuracy: 91.40666961669922, Test Loss: 0.27498292922973633, Test Accuracy: 90.0\n",
            "Epoch 5, Loss: 0.22488299012184143, Accuracy: 92.0, Test Loss: 0.2813299596309662, Test Accuracy: 89.68000030517578\n",
            "Epoch 6, Loss: 0.2110281139612198, Accuracy: 92.52999877929688, Test Loss: 0.2610305845737457, Test Accuracy: 90.3800048828125\n",
            "Epoch 7, Loss: 0.19534261524677277, Accuracy: 93.19999694824219, Test Loss: 0.2653388977050781, Test Accuracy: 90.6500015258789\n",
            "Epoch 8, Loss: 0.17994794249534607, Accuracy: 93.75, Test Loss: 0.25810232758522034, Test Accuracy: 90.58000183105469\n",
            "Epoch 9, Loss: 0.16997908055782318, Accuracy: 94.09333801269531, Test Loss: 0.25103291869163513, Test Accuracy: 90.8699951171875\n",
            "Epoch 10, Loss: 0.15761932730674744, Accuracy: 94.59000396728516, Test Loss: 0.2723688781261444, Test Accuracy: 90.88999938964844\n"
          ]
        }
      ]
    },
    {
      "cell_type": "markdown",
      "source": [
        "### Things to note in the example above\n",
        "\n",
        "* Iterate over the `train_dist_dataset` and `test_dist_dataset` using  a `for x in ...` construct.\n",
        "* The scaled loss is the return value of the `distributed_train_step`. This value is aggregated across replicas using the `tf.distribute.Strategy.reduce` call and then across batches by summing the return value of the `tf.distribute.Strategy.reduce` calls.\n",
        "* `tf.keras.Metrics` should be updated inside `train_step` and `test_step` that gets executed by `tf.distribute.Strategy.run`.\n",
        "* `tf.distribute.Strategy.run` returns results from each local replica in the strategy, and there are multiple ways to consume this result. You can do `tf.distribute.Strategy.reduce` to get an aggregated value. You can also do `tf.distribute.Strategy.experimental_local_results` to get the list of values contained in the result, one per local replica.\n"
      ],
      "metadata": {
        "id": "mClXP9nGSRzh"
      }
    },
    {
      "cell_type": "markdown",
      "source": [
        "## Restore the latest checkpoint and test"
      ],
      "metadata": {
        "id": "XPaVqy7USXps"
      }
    },
    {
      "cell_type": "markdown",
      "source": [
        "A model checkpointed with a `tf.distribute.Strategy` can be restored with or without a strategy."
      ],
      "metadata": {
        "id": "l6lMy3FOSd6l"
      }
    },
    {
      "cell_type": "code",
      "source": [
        "eval_accuracy = tf.keras.metrics.SparseCategoricalAccuracy(\n",
        "    name='eval_accuracy'\n",
        ")\n",
        "\n",
        "new_model = create_model()\n",
        "new_optimizer = tf.keras.optimizers.Adam()\n",
        "\n",
        "test_dataset = tf.data.Dataset.from_tensor_slices((test_images, test_labels)).batch(GLOBAL_BATCH_SIZE)"
      ],
      "metadata": {
        "id": "eqps_UuxKpWv"
      },
      "execution_count": 26,
      "outputs": []
    },
    {
      "cell_type": "code",
      "source": [
        "@tf.function\n",
        "def eval_step(images, labels):\n",
        "  predictions = new_model(images, training=False)\n",
        "  eval_accuracy(labels, predictions)"
      ],
      "metadata": {
        "id": "jMyl4iy7TB6S"
      },
      "execution_count": 27,
      "outputs": []
    },
    {
      "cell_type": "code",
      "source": [
        "checkpoint = tf.train.Checkpoint(optimizer=new_optimizer, model=new_model)\n",
        "checkpoint.restore(tf.train.latest_checkpoint(checkpoint_dir))\n",
        "\n",
        "for images, labels in test_dataset:\n",
        "  eval_step(images, labels)\n",
        "\n",
        "print(\"Accuracy after restoring the saved model without strategy: {}\".format(\n",
        "    eval_accuracy.result() * 100))"
      ],
      "metadata": {
        "colab": {
          "base_uri": "https://localhost:8080/"
        },
        "id": "UZUS8WCCTPzX",
        "outputId": "67dd90fa-3f5e-474e-821e-2d98a7ee77d6"
      },
      "execution_count": 28,
      "outputs": [
        {
          "output_type": "stream",
          "name": "stdout",
          "text": [
            "Accuracy after restoring the saved model without strategy: 90.8699951171875\n"
          ]
        }
      ]
    },
    {
      "cell_type": "markdown",
      "source": [
        "## Alternate ways of iterating over a dataset\n",
        "\n",
        "### Using iterators\n",
        "\n",
        "If you want to iterate over a given number of steps and not through the entire dataset, you can create an iterator using the `iter` call and explicitly call `next` on the iterator. You can choose to iterate over the dataset both inside and outside the `tf.function`. Here is a small snippet demonstrating iteration of the dataset outside the `tf.function` using an iterator.\n"
      ],
      "metadata": {
        "id": "wiCBhd7jXaMV"
      }
    },
    {
      "cell_type": "code",
      "source": [
        "for _ in range(EPOCHS):\n",
        "  total_loss = 0.0\n",
        "  num_batches = 0\n",
        "  train_iter = iter(train_dist_dataset)\n",
        "\n",
        "  for _ in range(10):\n",
        "    total_loss += distributed_train_step(next(train_iter))\n",
        "    num_batches += 1\n",
        "\n",
        "  average_train_loss = total_loss / num_batches\n",
        "\n",
        "  template = (\"Epoch {}, Loss: {}, Accuracy: {}\")\n",
        "  print(template.format(epoch + 1, average_train_loss, train_accuracy.result() * 100))\n",
        "  train_accuracy.reset_states()"
      ],
      "metadata": {
        "colab": {
          "base_uri": "https://localhost:8080/"
        },
        "id": "ensCcLOvT_vL",
        "outputId": "22f802db-5e7d-4d56-da3c-1f725e8ef653"
      },
      "execution_count": 29,
      "outputs": [
        {
          "output_type": "stream",
          "name": "stdout",
          "text": [
            "Epoch 10, Loss: 0.1707523763179779, Accuracy: 94.375\n",
            "Epoch 10, Loss: 0.1152532547712326, Accuracy: 96.09375\n",
            "Epoch 10, Loss: 0.15935716032981873, Accuracy: 94.84375\n",
            "Epoch 10, Loss: 0.1513751596212387, Accuracy: 94.84375\n",
            "Epoch 10, Loss: 0.1259537786245346, Accuracy: 96.09375\n",
            "Epoch 10, Loss: 0.1150766983628273, Accuracy: 95.9375\n",
            "Epoch 10, Loss: 0.12231781333684921, Accuracy: 95.15625\n",
            "Epoch 10, Loss: 0.17343047261238098, Accuracy: 94.0625\n",
            "Epoch 10, Loss: 0.13599321246147156, Accuracy: 95.78125\n",
            "Epoch 10, Loss: 0.12583084404468536, Accuracy: 96.09375\n"
          ]
        }
      ]
    },
    {
      "cell_type": "markdown",
      "source": [
        "### Iterating inside a `tf.function`\n",
        "\n",
        "You can also iterate over the entire input `train_dist_dataset` inside a `tf.function` using the `for x in ...` construct or by creating iterators like you did above. The example below demonstrates wrapping one epoch of training with a `@tf.function` decorator and iterating over `train_dist_dataset` inside the function."
      ],
      "metadata": {
        "id": "IyzQlgg4YdHs"
      }
    },
    {
      "cell_type": "code",
      "source": [
        "@tf.function\n",
        "def distributed_train_epoch(dataset):\n",
        "  total_loss = 0.0\n",
        "  num_batches = 0\n",
        "  for x in dataset:\n",
        "    per_replica_losses = strategy.run(train_step, args=(x,))\n",
        "    total_loss += strategy.reduce(\n",
        "      tf.distribute.ReduceOp.SUM, per_replica_losses, axis=None)\n",
        "    num_batches += 1\n",
        "  return total_loss / tf.cast(num_batches, dtype=tf.float32)\n",
        "\n",
        "for epoch in range(EPOCHS):\n",
        "  train_loss = distributed_train_epoch(train_dist_dataset)\n",
        "\n",
        "  template = (\"Epoch {}, Loss: {}, Accuracy: {}\")\n",
        "  print(template.format(epoch + 1, train_loss, train_accuracy.result() * 100))\n",
        "\n",
        "  train_accuracy.reset_states()"
      ],
      "metadata": {
        "colab": {
          "base_uri": "https://localhost:8080/"
        },
        "id": "FLSOKAZ0YJUU",
        "outputId": "1e2766a2-8d8a-41cc-f1a0-671144dc1a64"
      },
      "execution_count": 32,
      "outputs": [
        {
          "output_type": "stream",
          "name": "stderr",
          "text": [
            "/usr/local/lib/python3.10/dist-packages/tensorflow/python/data/ops/dataset_ops.py:468: UserWarning: To make it possible to preserve tf.data options across serialization boundaries, their implementation has moved to be part of the TensorFlow graph. As a consequence, the options value is in general no longer known at graph construction time. Invoking this method in graph mode retains the legacy behavior of the original implementation, but note that the returned value might not reflect the actual value of the options.\n",
            "  warnings.warn(\"To make it possible to preserve tf.data options across \"\n"
          ]
        },
        {
          "output_type": "stream",
          "name": "stdout",
          "text": [
            "Epoch 1, Loss: 0.14880523085594177, Accuracy: 94.9949951171875\n",
            "Epoch 2, Loss: 0.13826990127563477, Accuracy: 95.34333038330078\n",
            "Epoch 3, Loss: 0.13066034018993378, Accuracy: 95.73500061035156\n",
            "Epoch 4, Loss: 0.12170393764972687, Accuracy: 96.0183334350586\n",
            "Epoch 5, Loss: 0.11587734520435333, Accuracy: 96.3800048828125\n",
            "Epoch 6, Loss: 0.10953378677368164, Accuracy: 96.56166076660156\n",
            "Epoch 7, Loss: 0.10195442289113998, Accuracy: 96.90499877929688\n",
            "Epoch 8, Loss: 0.09741035103797913, Accuracy: 97.13833618164062\n",
            "Epoch 9, Loss: 0.0934075340628624, Accuracy: 97.25\n",
            "Epoch 10, Loss: 0.08837252855300903, Accuracy: 97.47166442871094\n"
          ]
        }
      ]
    },
    {
      "cell_type": "markdown",
      "source": [
        "### Tracking training loss across replicas\n",
        "\n",
        "Note: As a general rule, you should use `tf.keras.Metrics` to track per-sample values and avoid values that have been aggregated within a replica.\n",
        "\n",
        "Because of the loss scaling computation that is carried out, it's not recommended to use `tf.keras.metrics.Mean` to track the training loss across different replicas.\n",
        "\n",
        "For example, if you run a training job with the following characteristics:\n",
        "\n",
        "* Two replicas\n",
        "* Two samples are processed on each replica\n",
        "* Resulting loss values: [2,  3] and [4,  5] on each replica\n",
        "* Global batch size = 4\n",
        "\n",
        "With loss scaling, you calculate the per-sample value of loss on each replica by adding the loss values, and then dividing by the global batch size. In this case: `(2 + 3) / 4 = 1.25` and `(4 + 5) / 4 = 2.25`.\n",
        "\n",
        "If you use `tf.keras.metrics.Mean` to track loss across the two replicas, the result is different. In this example, you end up with a `total` of 3.50 and `count` of 2, which results in `total`/`count` = 1.75  when `result()` is called on the metric. Loss calculated with `tf.keras.Metrics` is scaled by an additional factor that is equal to the number of replicas in sync."
      ],
      "metadata": {
        "id": "AkeOnYfXbo8z"
      }
    },
    {
      "cell_type": "code",
      "source": [],
      "metadata": {
        "id": "GBX2WYQOZh2G"
      },
      "execution_count": null,
      "outputs": []
    }
  ]
}